{
 "cells": [
  {
   "cell_type": "markdown",
   "metadata": {},
   "source": [
    "# Choosing History Classes"
   ]
  },
  {
   "cell_type": "markdown",
   "metadata": {},
   "source": [
    "What I'm working on here is selecting the class that is most likely to get me a passing grade with minimum effort for my History General Education Requirements. I will look at average course grade as well as percent recommended for the class based on CAPE scores and reviews within the department"
   ]
  },
  {
   "cell_type": "code",
   "execution_count": 69,
   "metadata": {
    "collapsed": true
   },
   "outputs": [],
   "source": [
    "import numpy as np\n",
    "import pandas as pd\n",
    "import matplotlib.pyplot as plt"
   ]
  },
  {
   "cell_type": "markdown",
   "metadata": {},
   "source": [
    "The first thing that I will do is take in the information from the csv file into a dataframe."
   ]
  },
  {
   "cell_type": "code",
   "execution_count": 71,
   "metadata": {
    "collapsed": true
   },
   "outputs": [],
   "source": [
    "uneditedHistoryTable = pd.read_csv(\"HistoryCapes.csv\")\n",
    "#historyTable"
   ]
  },
  {
   "cell_type": "markdown",
   "metadata": {},
   "source": [
    "The next action that I performed was that I took the information and removed all entries where the average grade received was not an A."
   ]
  },
  {
   "cell_type": "code",
   "execution_count": 72,
   "metadata": {
    "collapsed": true
   },
   "outputs": [],
   "source": [
    "#df[df['date'].astype(str).str.contains('07311954')]\n",
    "newHistoryTable = uneditedHistoryTable[uneditedHistoryTable['Avg Grade Received'].astype(str).str.contains('A')]\n",
    "#historyTable"
   ]
  },
  {
   "cell_type": "markdown",
   "metadata": {},
   "source": [
    "The next action that I took was to remove all entries where there were not at least 10 entries, to make sure that the class had enough entries to make the student reviews reliable."
   ]
  },
  {
   "cell_type": "code",
   "execution_count": 74,
   "metadata": {},
   "outputs": [],
   "source": [
    "#historyTable[historyTable['Avg Grade Received'].astype(str).str.contains('A')]\n",
    "newHistoryTable = newHistoryTable[newHistoryTable['Evals Made'] >= 10]\n",
    "#historyTable"
   ]
  },
  {
   "cell_type": "markdown",
   "metadata": {},
   "source": [
    "The following method was created to reformat the 'Rcmnd Class' and 'Rcmnd Instr' Columns so that they are floats."
   ]
  },
  {
   "cell_type": "code",
   "execution_count": 75,
   "metadata": {
    "collapsed": true
   },
   "outputs": [],
   "source": [
    "def stripPercentMakeFloat(percent):\n",
    "    '''Takes a Percent in String form and turns it into a float'''\n",
    "    return float(percent.strip('%'))\n",
    "#testResult = stripPercentMakeFloat(\"99.9%\")\n",
    "#print(str(testResult) + \" is a \" + str(type(testResult)))"
   ]
  },
  {
   "cell_type": "markdown",
   "metadata": {},
   "source": [
    "I then used apply to edit both of these columns."
   ]
  },
  {
   "cell_type": "code",
   "execution_count": 76,
   "metadata": {
    "collapsed": true
   },
   "outputs": [],
   "source": [
    "#df['a'] = df['a'].apply(lambda x: x + 1)\n",
    "newHistoryTable['Rcmnd Class'] = newHistoryTable['Rcmnd Class'].apply(lambda x : stripPercentMakeFloat(x))\n",
    "newHistoryTable['Rcmnd Instr'] = newHistoryTable['Rcmnd Instr'].apply(lambda x : stripPercentMakeFloat(x))\n",
    "#historyTable"
   ]
  },
  {
   "cell_type": "markdown",
   "metadata": {},
   "source": [
    "I then removed the classes where less than 82 and 80 percent of people recommended the class and instructor, respectively."
   ]
  },
  {
   "cell_type": "code",
   "execution_count": 77,
   "metadata": {
    "collapsed": true
   },
   "outputs": [],
   "source": [
    "newHistoryTable = newHistoryTable[newHistoryTable['Rcmnd Class'] >= 85]\n",
    "newHistoryTable = newHistoryTable[newHistoryTable['Rcmnd Instr'] >= 85]"
   ]
  },
  {
   "cell_type": "code",
   "execution_count": 78,
   "metadata": {},
   "outputs": [],
   "source": [
    "newHistoryTable = newHistoryTable.drop_duplicates('Course') #removes duplicate courses\n",
    "#historyTable"
   ]
  },
  {
   "cell_type": "code",
   "execution_count": 79,
   "metadata": {
    "collapsed": true
   },
   "outputs": [],
   "source": [
    "newHistoryTable = newHistoryTable[newHistoryTable['Study Hrs/wk'] <= 10]\n",
    "#historyTable"
   ]
  },
  {
   "cell_type": "code",
   "execution_count": 80,
   "metadata": {},
   "outputs": [
    {
     "data": {
      "text/html": [
       "<div>\n",
       "<style>\n",
       "    .dataframe thead tr:only-child th {\n",
       "        text-align: right;\n",
       "    }\n",
       "\n",
       "    .dataframe thead th {\n",
       "        text-align: left;\n",
       "    }\n",
       "\n",
       "    .dataframe tbody tr th {\n",
       "        vertical-align: top;\n",
       "    }\n",
       "</style>\n",
       "<table border=\"1\" class=\"dataframe\">\n",
       "  <thead>\n",
       "    <tr style=\"text-align: right;\">\n",
       "      <th></th>\n",
       "      <th>Instructor</th>\n",
       "      <th>Course</th>\n",
       "      <th>Term</th>\n",
       "      <th>Enroll</th>\n",
       "      <th>Evals Made</th>\n",
       "      <th>Rcmnd Class</th>\n",
       "      <th>Rcmnd Instr</th>\n",
       "      <th>Study Hrs/wk</th>\n",
       "      <th>Avg Grade Expected</th>\n",
       "      <th>Avg Grade Received</th>\n",
       "    </tr>\n",
       "  </thead>\n",
       "  <tbody>\n",
       "    <tr>\n",
       "      <th>19</th>\n",
       "      <td>Ringrose, David R.</td>\n",
       "      <td>HIEU 126 - Age of Expansion/1400-1600 (A)</td>\n",
       "      <td>WI10</td>\n",
       "      <td>56</td>\n",
       "      <td>19</td>\n",
       "      <td>89.5</td>\n",
       "      <td>94.7</td>\n",
       "      <td>2.94</td>\n",
       "      <td>A- (3.84)</td>\n",
       "      <td>A- (3.77)</td>\n",
       "    </tr>\n",
       "    <tr>\n",
       "      <th>16</th>\n",
       "      <td>Graham, Jessica Lynn</td>\n",
       "      <td>HILA 121A - History of Brazil through 1889 (A)</td>\n",
       "      <td>WI14</td>\n",
       "      <td>35</td>\n",
       "      <td>15</td>\n",
       "      <td>100.0</td>\n",
       "      <td>100.0</td>\n",
       "      <td>3.30</td>\n",
       "      <td>A- (3.85)</td>\n",
       "      <td>A- (3.76)</td>\n",
       "    </tr>\n",
       "    <tr>\n",
       "      <th>11</th>\n",
       "      <td>Rosenfeld, Susan Alexandra</td>\n",
       "      <td>HIAF 112 - West Africa Since 1880 (A)</td>\n",
       "      <td>WI17</td>\n",
       "      <td>27</td>\n",
       "      <td>12</td>\n",
       "      <td>100.0</td>\n",
       "      <td>100.0</td>\n",
       "      <td>3.59</td>\n",
       "      <td>B+ (3.50)</td>\n",
       "      <td>A- (3.75)</td>\n",
       "    </tr>\n",
       "    <tr>\n",
       "      <th>8</th>\n",
       "      <td>Man, Simeon S</td>\n",
       "      <td>HILD 7B - Race &amp; Ethnicity/United States (A)</td>\n",
       "      <td>WI17</td>\n",
       "      <td>367</td>\n",
       "      <td>228</td>\n",
       "      <td>89.6</td>\n",
       "      <td>93.7</td>\n",
       "      <td>3.94</td>\n",
       "      <td>B+ (3.70)</td>\n",
       "      <td>A- (3.74)</td>\n",
       "    </tr>\n",
       "    <tr>\n",
       "      <th>4</th>\n",
       "      <td>Ringrose, David R.</td>\n",
       "      <td>HITO 117 - World History, 1200-1800 (A)</td>\n",
       "      <td>WI08</td>\n",
       "      <td>23</td>\n",
       "      <td>11</td>\n",
       "      <td>100.0</td>\n",
       "      <td>100.0</td>\n",
       "      <td>3.95</td>\n",
       "      <td>A- (3.75)</td>\n",
       "      <td>A- (3.72)</td>\n",
       "    </tr>\n",
       "    <tr>\n",
       "      <th>26</th>\n",
       "      <td>Widener, Daniel</td>\n",
       "      <td>HILA 122 - ColonyToSocialistRepublic:Cuba (A)</td>\n",
       "      <td>FA14</td>\n",
       "      <td>54</td>\n",
       "      <td>24</td>\n",
       "      <td>87.0</td>\n",
       "      <td>91.3</td>\n",
       "      <td>4.23</td>\n",
       "      <td>A- (3.85)</td>\n",
       "      <td>A- (3.84)</td>\n",
       "    </tr>\n",
       "    <tr>\n",
       "      <th>0</th>\n",
       "      <td>Widener, Daniel</td>\n",
       "      <td>HITO 155 - Race/Sport/Inequality 20th Cen (A)</td>\n",
       "      <td>FA15</td>\n",
       "      <td>68</td>\n",
       "      <td>28</td>\n",
       "      <td>88.9</td>\n",
       "      <td>96.3</td>\n",
       "      <td>4.42</td>\n",
       "      <td>B+ (3.47)</td>\n",
       "      <td>A- (3.70)</td>\n",
       "    </tr>\n",
       "    <tr>\n",
       "      <th>3</th>\n",
       "      <td>Ringrose, David R.</td>\n",
       "      <td>HIEU 138 - Imperial Spain 1476-1808 (A)</td>\n",
       "      <td>WI09</td>\n",
       "      <td>36</td>\n",
       "      <td>18</td>\n",
       "      <td>100.0</td>\n",
       "      <td>100.0</td>\n",
       "      <td>4.61</td>\n",
       "      <td>A- (3.76)</td>\n",
       "      <td>A- (3.71)</td>\n",
       "    </tr>\n",
       "    <tr>\n",
       "      <th>9</th>\n",
       "      <td>Graham, Jessica Lynn</td>\n",
       "      <td>HILA 121B - History of Brazil 1889-Present (A)</td>\n",
       "      <td>WI13</td>\n",
       "      <td>24</td>\n",
       "      <td>10</td>\n",
       "      <td>100.0</td>\n",
       "      <td>100.0</td>\n",
       "      <td>4.70</td>\n",
       "      <td>B+ (3.56)</td>\n",
       "      <td>A- (3.74)</td>\n",
       "    </tr>\n",
       "    <tr>\n",
       "      <th>17</th>\n",
       "      <td>Frolich, Margrit Luise</td>\n",
       "      <td>HIEU 145 - The Holocaust as Public Histry (A)</td>\n",
       "      <td>SP17</td>\n",
       "      <td>56</td>\n",
       "      <td>23</td>\n",
       "      <td>91.3</td>\n",
       "      <td>95.7</td>\n",
       "      <td>5.14</td>\n",
       "      <td>B+ (3.50)</td>\n",
       "      <td>A- (3.77)</td>\n",
       "    </tr>\n",
       "    <tr>\n",
       "      <th>14</th>\n",
       "      <td>Widener, Daniel</td>\n",
       "      <td>HIUS 114 - California History (A)</td>\n",
       "      <td>S214</td>\n",
       "      <td>34</td>\n",
       "      <td>11</td>\n",
       "      <td>100.0</td>\n",
       "      <td>90.9</td>\n",
       "      <td>5.59</td>\n",
       "      <td>B+ (3.60)</td>\n",
       "      <td>A- (3.75)</td>\n",
       "    </tr>\n",
       "    <tr>\n",
       "      <th>30</th>\n",
       "      <td>Fuste, Jose Ignacio</td>\n",
       "      <td>HIUS 129 - Race/Ethnicity-American Cities (A)</td>\n",
       "      <td>WI14</td>\n",
       "      <td>19</td>\n",
       "      <td>14</td>\n",
       "      <td>100.0</td>\n",
       "      <td>100.0</td>\n",
       "      <td>5.64</td>\n",
       "      <td>A- (3.73)</td>\n",
       "      <td>A- (3.88)</td>\n",
       "    </tr>\n",
       "    <tr>\n",
       "      <th>12</th>\n",
       "      <td>Biess, Frank Peter</td>\n",
       "      <td>HIEU 154GS - Mod German/Bismarck to Hitler (A)</td>\n",
       "      <td>S216</td>\n",
       "      <td>28</td>\n",
       "      <td>13</td>\n",
       "      <td>100.0</td>\n",
       "      <td>100.0</td>\n",
       "      <td>6.00</td>\n",
       "      <td>A- (3.75)</td>\n",
       "      <td>A- (3.75)</td>\n",
       "    </tr>\n",
       "    <tr>\n",
       "      <th>2</th>\n",
       "      <td>O'Keefe, Amy Merrill</td>\n",
       "      <td>HIEA 131 - China/War &amp; Revolution 1911-49 (A)</td>\n",
       "      <td>S117</td>\n",
       "      <td>24</td>\n",
       "      <td>21</td>\n",
       "      <td>90.5</td>\n",
       "      <td>95.2</td>\n",
       "      <td>7.20</td>\n",
       "      <td>B+ (3.67)</td>\n",
       "      <td>A- (3.71)</td>\n",
       "    </tr>\n",
       "    <tr>\n",
       "      <th>21</th>\n",
       "      <td>Patterson, Patrick H.</td>\n",
       "      <td>HIEU 152GS - Everyday Life/Dictatorial Soc (A)</td>\n",
       "      <td>S215</td>\n",
       "      <td>23</td>\n",
       "      <td>21</td>\n",
       "      <td>95.2</td>\n",
       "      <td>100.0</td>\n",
       "      <td>8.50</td>\n",
       "      <td>B+ (3.57)</td>\n",
       "      <td>A- (3.79)</td>\n",
       "    </tr>\n",
       "    <tr>\n",
       "      <th>13</th>\n",
       "      <td>Radcliff, Pamela B.</td>\n",
       "      <td>HIEU 151GS - Spain Since 1808 (A)</td>\n",
       "      <td>S115</td>\n",
       "      <td>24</td>\n",
       "      <td>12</td>\n",
       "      <td>90.9</td>\n",
       "      <td>100.0</td>\n",
       "      <td>8.86</td>\n",
       "      <td>A- (3.73)</td>\n",
       "      <td>A- (3.75)</td>\n",
       "    </tr>\n",
       "  </tbody>\n",
       "</table>\n",
       "</div>"
      ],
      "text/plain": [
       "                    Instructor  \\\n",
       "19          Ringrose, David R.   \n",
       "16        Graham, Jessica Lynn   \n",
       "11  Rosenfeld, Susan Alexandra   \n",
       "8                Man, Simeon S   \n",
       "4           Ringrose, David R.   \n",
       "26             Widener, Daniel   \n",
       "0              Widener, Daniel   \n",
       "3           Ringrose, David R.   \n",
       "9         Graham, Jessica Lynn   \n",
       "17      Frolich, Margrit Luise   \n",
       "14             Widener, Daniel   \n",
       "30         Fuste, Jose Ignacio   \n",
       "12          Biess, Frank Peter   \n",
       "2         O'Keefe, Amy Merrill   \n",
       "21       Patterson, Patrick H.   \n",
       "13         Radcliff, Pamela B.   \n",
       "\n",
       "                                            Course  Term  Enroll  Evals Made  \\\n",
       "19       HIEU 126 - Age of Expansion/1400-1600 (A)  WI10      56          19   \n",
       "16  HILA 121A - History of Brazil through 1889 (A)  WI14      35          15   \n",
       "11           HIAF 112 - West Africa Since 1880 (A)  WI17      27          12   \n",
       "8     HILD 7B - Race & Ethnicity/United States (A)  WI17     367         228   \n",
       "4          HITO 117 - World History, 1200-1800 (A)  WI08      23          11   \n",
       "26   HILA 122 - ColonyToSocialistRepublic:Cuba (A)  FA14      54          24   \n",
       "0    HITO 155 - Race/Sport/Inequality 20th Cen (A)  FA15      68          28   \n",
       "3          HIEU 138 - Imperial Spain 1476-1808 (A)  WI09      36          18   \n",
       "9   HILA 121B - History of Brazil 1889-Present (A)  WI13      24          10   \n",
       "17   HIEU 145 - The Holocaust as Public Histry (A)  SP17      56          23   \n",
       "14               HIUS 114 - California History (A)  S214      34          11   \n",
       "30   HIUS 129 - Race/Ethnicity-American Cities (A)  WI14      19          14   \n",
       "12  HIEU 154GS - Mod German/Bismarck to Hitler (A)  S216      28          13   \n",
       "2    HIEA 131 - China/War & Revolution 1911-49 (A)  S117      24          21   \n",
       "21  HIEU 152GS - Everyday Life/Dictatorial Soc (A)  S215      23          21   \n",
       "13               HIEU 151GS - Spain Since 1808 (A)  S115      24          12   \n",
       "\n",
       "    Rcmnd Class  Rcmnd Instr  Study Hrs/wk Avg Grade Expected  \\\n",
       "19         89.5         94.7          2.94          A- (3.84)   \n",
       "16        100.0        100.0          3.30          A- (3.85)   \n",
       "11        100.0        100.0          3.59          B+ (3.50)   \n",
       "8          89.6         93.7          3.94          B+ (3.70)   \n",
       "4         100.0        100.0          3.95          A- (3.75)   \n",
       "26         87.0         91.3          4.23          A- (3.85)   \n",
       "0          88.9         96.3          4.42          B+ (3.47)   \n",
       "3         100.0        100.0          4.61          A- (3.76)   \n",
       "9         100.0        100.0          4.70          B+ (3.56)   \n",
       "17         91.3         95.7          5.14          B+ (3.50)   \n",
       "14        100.0         90.9          5.59          B+ (3.60)   \n",
       "30        100.0        100.0          5.64          A- (3.73)   \n",
       "12        100.0        100.0          6.00          A- (3.75)   \n",
       "2          90.5         95.2          7.20          B+ (3.67)   \n",
       "21         95.2        100.0          8.50          B+ (3.57)   \n",
       "13         90.9        100.0          8.86          A- (3.73)   \n",
       "\n",
       "   Avg Grade Received  \n",
       "19          A- (3.77)  \n",
       "16          A- (3.76)  \n",
       "11          A- (3.75)  \n",
       "8           A- (3.74)  \n",
       "4           A- (3.72)  \n",
       "26          A- (3.84)  \n",
       "0           A- (3.70)  \n",
       "3           A- (3.71)  \n",
       "9           A- (3.74)  \n",
       "17          A- (3.77)  \n",
       "14          A- (3.75)  \n",
       "30          A- (3.88)  \n",
       "12          A- (3.75)  \n",
       "2           A- (3.71)  \n",
       "21          A- (3.79)  \n",
       "13          A- (3.75)  "
      ]
     },
     "execution_count": 80,
     "metadata": {},
     "output_type": "execute_result"
    }
   ],
   "source": [
    "newHistoryTable = newHistoryTable.sort_values('Study Hrs/wk')\n",
    "newHistoryTable"
   ]
  },
  {
   "cell_type": "code",
   "execution_count": 81,
   "metadata": {},
   "outputs": [
    {
     "name": "stdout",
     "output_type": "stream",
     "text": [
      "(19         HIEU 126 - Age of Expansion/1400-1600 (A)\n",
      "16    HILA 121A - History of Brazil through 1889 (A)\n",
      "11             HIAF 112 - West Africa Since 1880 (A)\n",
      "8       HILD 7B - Race & Ethnicity/United States (A)\n",
      "4            HITO 117 - World History, 1200-1800 (A)\n",
      "26     HILA 122 - ColonyToSocialistRepublic:Cuba (A)\n",
      "0      HITO 155 - Race/Sport/Inequality 20th Cen (A)\n",
      "3            HIEU 138 - Imperial Spain 1476-1808 (A)\n",
      "9     HILA 121B - History of Brazil 1889-Present (A)\n",
      "17     HIEU 145 - The Holocaust as Public Histry (A)\n",
      "14                 HIUS 114 - California History (A)\n",
      "30     HIUS 129 - Race/Ethnicity-American Cities (A)\n",
      "12    HIEU 154GS - Mod German/Bismarck to Hitler (A)\n",
      "2      HIEA 131 - China/War & Revolution 1911-49 (A)\n",
      "21    HIEU 152GS - Everyday Life/Dictatorial Soc (A)\n",
      "13                 HIEU 151GS - Spain Since 1808 (A)\n",
      "Name: Course, dtype: object, 19    2.94\n",
      "16    3.30\n",
      "11    3.59\n",
      "8     3.94\n",
      "4     3.95\n",
      "26    4.23\n",
      "0     4.42\n",
      "3     4.61\n",
      "9     4.70\n",
      "17    5.14\n",
      "14    5.59\n",
      "30    5.64\n",
      "12    6.00\n",
      "2     7.20\n",
      "21    8.50\n",
      "13    8.86\n",
      "Name: Study Hrs/wk, dtype: float64)\n"
     ]
    }
   ],
   "source": [
    "possibleCourses = (newHistoryTable['Course'], newHistoryTable['Study Hrs/wk'])\n",
    "print(possibleCourses)"
   ]
  },
  {
   "cell_type": "code",
   "execution_count": null,
   "metadata": {
    "collapsed": true
   },
   "outputs": [],
   "source": []
  }
 ],
 "metadata": {
  "kernelspec": {
   "display_name": "Python 3",
   "language": "python",
   "name": "python3"
  },
  "language_info": {
   "codemirror_mode": {
    "name": "ipython",
    "version": 3
   },
   "file_extension": ".py",
   "mimetype": "text/x-python",
   "name": "python",
   "nbconvert_exporter": "python",
   "pygments_lexer": "ipython3",
   "version": "3.6.3"
  }
 },
 "nbformat": 4,
 "nbformat_minor": 2
}
